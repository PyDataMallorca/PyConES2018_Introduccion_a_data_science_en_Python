{
 "cells": [
  {
   "cell_type": "markdown",
   "metadata": {},
   "source": [
    "# pandas"
   ]
  },
  {
   "cell_type": "markdown",
   "metadata": {},
   "source": [
    "[`pandas`](https://pandas.pydata.org) es una librería que nos permite consultar y modificar datos estructurados y etiquetados, que funciona como una capa de abstracción sobre `NumPy`."
   ]
  },
  {
   "cell_type": "markdown",
   "metadata": {},
   "source": [
    "**Índice**\n",
    "\n",
    "* [Estructuras de datos](#Tipos-de-datos)\n",
    "* [Carga de datos](#Carga-de-datos)\n",
    "* [Exploración inicial de los datos](#Exploración-básica-de-los-datos)\n",
    "* [Etiquetas de filas y columnas](#Etiquetas-de-filas-y-columnas)\n",
    "* [Indexación](#Indexación)\n",
    " * [Indexación por etiquetas y posición numérica](#Indexación-por-etiquetas-y-posición-numérica)\n",
    " * [Indexación mediante Series de boolean](#Indexación-mediante-Series-de-boolean)\n",
    "* [Creación, modificación y borrado de filas y columnas](#Creación,-modificación-y-borrado-de-filas-y-columnas)\n",
    " * [Eliminación de datos nulos](#Eliminación-de-datos-nulos)\n",
    "* [Agrupaciones](#Agrupaciones)"
   ]
  },
  {
   "cell_type": "code",
   "execution_count": null,
   "metadata": {},
   "outputs": [],
   "source": [
    "import numpy as np\n",
    "import pandas as pd"
   ]
  },
  {
   "cell_type": "markdown",
   "metadata": {},
   "source": [
    "## Estructuras de datos\n",
    "\n",
    "En `pandas` podemos encontrar dos estructuras de datos:\n",
    "\n",
    "* [`Series`](https://pandas.pydata.org/pandas-docs/stable/generated/pandas.Series.html): para datos de una dimensión. Sería similar a una lista de elementos.\n",
    "* [`DataFrame`](https://pandas.pydata.org/pandas-docs/stable/generated/pandas.DataFrame.html): para datos de dos dimensiones. En este caso, sería equivalente a una tabla de una base de datos o una hoja de cálculo. Esta estructura es la más utilizada en `pandas`.\n",
    "\n",
    "Existe también una tercera estructura, [`Panel`](https://pandas.pydata.org/pandas-docs/stable/generated/pandas.Panel.html), para tipos de datos de tres dimensiones, pero su utilización ha sido desaprobada en la versión 0.20.0.\n",
    "\n",
    "Internamente, las columnas de un `DataFrame` están formadas por objetos `Series`. "
   ]
  },
  {
   "cell_type": "markdown",
   "metadata": {
    "collapsed": true
   },
   "source": [
    "## Carga de datos\n",
    "\n",
    "Mediante `pandas` podemos cargar datos desde ficheros de texto como CSV, Microsoft Excel, HTML, bases de datos y HDF5:\n",
    "\n",
    "* `pandas.read_csv`\n",
    "* `pandas.read_excel`\n",
    "* `pandas.read_html`\n",
    "* `pandas.read_sql`\n",
    "* `pandas.read_hdf5`\n",
    "\n",
    "En este tutorial utilizaremos la lectura de ficheros de texto: [`pd.read_csv`](https://pandas.pydata.org/pandas-docs/stable/generated/pandas.read_csv.html).\n",
    "\n",
    "Vamos a cargar el conjunto de datos de las flores Iris (https://es.wikipedia.org/wiki/Iris_flor_conjunto_de_datos), que es muy utilizado en las introducciones a Data Science. \n",
    "\n",
    "Este conjunto de datos contiene información sobre las dimensiones de tipos de flores Iris y está compuesto por las siguientes columnas:\n",
    "\n",
    "* **sepal length (cm)**: largo de sépalo en centímetros.\n",
    "* **sepal width (cm)**: ancho de sépalo en centímetros.\n",
    "* **petal length (cm)**: largo de pétalo en centímetros.\n",
    "* **petal width (cm)**: ancho de pétalo en centímetros.\n",
    "* **species**: tipo de flor Iris. En el conjunto de datos tenemos tres tipos: Versicolor, Setosa y Virginica.\n",
    "\n",
    "¿Qué es un sépalo?\n",
    "![Pétalo vs sépalo](../../images/04_01_pet_sep.png)\n",
    "\n",
    "Iris Versicolor\n",
    "![Verisocolor](../../images/04_02_iris_versicolor.png)\n",
    "\n",
    "Iris Setosa \n",
    "![Setosa](../../images/04_03_iris_setosa.png)\n",
    "\n",
    "Iris Virginica\n",
    "![Viriginica](../../images/04_04_iris_virginica.png)"
   ]
  },
  {
   "cell_type": "code",
   "execution_count": null,
   "metadata": {},
   "outputs": [],
   "source": [
    "# Cargamos los datos del fichero CSV y creamos un DataFrame\n",
    "df = pd.read_csv('../../data/04_01_iris.csv')\n",
    "\n",
    "# Imprimimos los datos cargados: las primeras 15 filas\n",
    "df.head(15)"
   ]
  },
  {
   "cell_type": "markdown",
   "metadata": {},
   "source": [
    "## Exploración básica de los datos\n",
    "\n",
    "En este apartado utilizaremos algunos métodos que nos permiten hacernos una idea de la información que contiene nuestro conjunto de datos."
   ]
  },
  {
   "cell_type": "code",
   "execution_count": null,
   "metadata": {
    "scrolled": true
   },
   "outputs": [],
   "source": [
    "# Consultamos el total de elementos no vacíos, la media, desviación estándar, el valor mínimo, \n",
    "# los percentiles 25, 50 (mediana), 75 y el valor máximo\n",
    "df.describe()"
   ]
  },
  {
   "cell_type": "code",
   "execution_count": null,
   "metadata": {},
   "outputs": [],
   "source": [
    "# Consultamos el tipo de estructura que pandas está utilizando, \n",
    "# el total de registros, el tipo de datos de cada columna y la memoria utilizada\n",
    "df.info()"
   ]
  },
  {
   "cell_type": "code",
   "execution_count": null,
   "metadata": {},
   "outputs": [],
   "source": [
    "# Podemos saber las dimensiones de nuestro DataFrame de la siguiente forma\n",
    "df.shape"
   ]
  },
  {
   "cell_type": "code",
   "execution_count": null,
   "metadata": {},
   "outputs": [],
   "source": [
    "# Si lo necesitamos, podemos transformar los datos a un ndarray fácilmente\n",
    "df.values"
   ]
  },
  {
   "cell_type": "markdown",
   "metadata": {},
   "source": [
    "## Etiquetas de filas y columnas\n",
    "\n",
    "`pandas` permite etiquetar fácilmente las columnas y filas de los `DataFrame` con los nombres que deseemos. En el caso de Series, tendremos únicamente etiquetas para las filas.\n",
    "\n",
    "Por ejemplo, veamos las etiquetas que tenemos en nuestro `DataFrame`:"
   ]
  },
  {
   "cell_type": "code",
   "execution_count": null,
   "metadata": {},
   "outputs": [],
   "source": [
    "# Muestra las etiquetas o nombres de las filas\n",
    "df.index"
   ]
  },
  {
   "cell_type": "code",
   "execution_count": null,
   "metadata": {},
   "outputs": [],
   "source": [
    "# Muestra el nombre de las columnas\n",
    "df.columns"
   ]
  },
  {
   "cell_type": "markdown",
   "metadata": {},
   "source": [
    "Destacar que en todos los casos obtenemos objetos de la clase [`Index`](https://pandas.pydata.org/pandas-docs/stable/generated/pandas.Index.html). Esta clase contiene en realidad un `ndarray`, que podemos obtener utlizando también `values`:"
   ]
  },
  {
   "cell_type": "code",
   "execution_count": null,
   "metadata": {},
   "outputs": [],
   "source": [
    "# Obtenemos el ndarray correspondiente al nombre de las filas\n",
    "df.index.values"
   ]
  },
  {
   "cell_type": "markdown",
   "metadata": {},
   "source": [
    "Si lo deseamos, podemos cambiar los nombres de las filas y columnas de forma muy sencilla. Veamos cómo podemos hacerlo:"
   ]
  },
  {
   "cell_type": "code",
   "execution_count": null,
   "metadata": {},
   "outputs": [],
   "source": [
    "# Cambiamos el nombre de las filas asignando el nuevo nombre directamente a index:\n",
    "df.index = np.arange(500, 650) # Crea un ndarray desde el número 500 hasta el 649, 150 elementos en total\n",
    "df.head()"
   ]
  },
  {
   "cell_type": "code",
   "execution_count": null,
   "metadata": {},
   "outputs": [],
   "source": [
    "# Y para cambiar el nombre de las columnas lo hacemos de una forma muy similar\n",
    "df.columns = ['A', 'B', 'C', 'D', 'E']\n",
    "df.head()"
   ]
  },
  {
   "cell_type": "code",
   "execution_count": null,
   "metadata": {},
   "outputs": [],
   "source": [
    "# Cargamos de nuevo el DataFrame original para seguir con el notebook\n",
    "df = pd.read_csv('../../data/04_01_iris.csv')"
   ]
  },
  {
   "cell_type": "markdown",
   "metadata": {},
   "source": [
    "## Indexación \n",
    "\n",
    "Una de las grandes ventajas de `pandas` es que ofrece una gran flexibilidad para indexar datos, es decir, seleccionar un subconjunto del total de datos que hemos cargado.\n",
    "\n",
    "Debemos tener en cuenta que en la indexación numérica **empezamos a contar desde cero**. Por este motivo, la posición de la primera fila y primera columna será 0.\n",
    "\n",
    "Hay muchas formas de indexar datos en `pandas`. Vamos a ver las más útiles."
   ]
  },
  {
   "cell_type": "markdown",
   "metadata": {},
   "source": [
    "### Indexación por etiquetas y posición numérica"
   ]
  },
  {
   "cell_type": "code",
   "execution_count": null,
   "metadata": {},
   "outputs": [],
   "source": [
    "# Podemos seleccionar una columna directamente a partir del nombre de la columna y utlizando []\n",
    "df['species'].head()"
   ]
  },
  {
   "cell_type": "code",
   "execution_count": null,
   "metadata": {
    "scrolled": false
   },
   "outputs": [],
   "source": [
    "# También podemos seleccionar un conjunto de columnas a partir de una lista de los nombres de las columnas\n",
    "\n",
    "cols = ['sepal length (cm)', 'species'] # Columnas que queremos cargar\n",
    "\n",
    "df[cols].head()"
   ]
  },
  {
   "cell_type": "code",
   "execution_count": null,
   "metadata": {},
   "outputs": [],
   "source": [
    "# Para seleccionar una celda, debemos llamar a .loc e indicar la fila y columna de la celda que deseamos cargar\n",
    "df.loc[1, 'sepal length (cm)']"
   ]
  },
  {
   "cell_type": "code",
   "execution_count": null,
   "metadata": {},
   "outputs": [],
   "source": [
    "# También podemos seleccionar una fila en concreto: especificamos el nombre de la fila y : para indicar que\n",
    "# queremos cargar todas las columnas\n",
    "df.loc[1, :]"
   ]
  },
  {
   "cell_type": "code",
   "execution_count": null,
   "metadata": {},
   "outputs": [],
   "source": [
    "# Asimismo es posible consultar el valor de una celda mediante códigos numéricos mediante iloc (i de integer)\n",
    "# Por ejemplo, si queremos cargar la celda (fila 51, columna 4) podemos hacerlo del siguiente modo\n",
    "# ¡Ver que empezamos a contar desde cero!\n",
    "df.iloc[50, 3]"
   ]
  },
  {
   "cell_type": "code",
   "execution_count": null,
   "metadata": {
    "scrolled": true
   },
   "outputs": [],
   "source": [
    "# pandas también permite acceder a las columnas mediante el nombre de la columna después del dataframe,\n",
    "# siempre que sea un identificador Python válido (por ejemplo, sin espacios en blanco) y no tenga el mismo\n",
    "# nombre que un método propio de pandas para el dataframe\n",
    "\n",
    "# ¡Cuidado! No está recomendado utilizarlo en producción porque podría ocurrir que en el futuro se añada un \n",
    "# método con el mismo nombre que nuestra columna\n",
    "\n",
    "df.species.head()"
   ]
  },
  {
   "cell_type": "markdown",
   "metadata": {},
   "source": [
    "### Indexación mediante `Series` de `boolean`\n"
   ]
  },
  {
   "cell_type": "markdown",
   "metadata": {
    "collapsed": true
   },
   "source": [
    "En `pandas` también es posible indexar datos mediante un objeto `Series` de tipo `boolean`, es decir, una lista de valores verdadero o falso. Esta lista actúa como un filtro sobre todas las filas del `DataFrame` y se nos devuelve únicamente las filas con valor verdadero.\n",
    "\n",
    "Este objeto puede crearse muy fácilmente a partir de operadores de comparación o mediante métodos de `pandas` que los devuelven directamente. Vamos a ver algunos ejemplos para comprender cómo funciona."
   ]
  },
  {
   "cell_type": "code",
   "execution_count": null,
   "metadata": {},
   "outputs": [],
   "source": [
    "# Si queremos consultar todas las filas que son de las especie virginica podemos hacerlo del siguiente modo:\n",
    "\n",
    "cond = df['species'] == 'virginica' # Escribimos la condición y la guardamos en una variable\n",
    "\n",
    "cond.sample(20, random_state=5) # Imprimimos una selección aleatoria de la lista de valores para ver qué contiene"
   ]
  },
  {
   "cell_type": "code",
   "execution_count": null,
   "metadata": {},
   "outputs": [],
   "source": [
    "# Y ahora para filtrar, simplemente debemos utilizar la lista de valores verdadero y falso \n",
    "# directamente en el DataFrame de la siguiente forma:\n",
    "df[cond].head()"
   ]
  },
  {
   "cell_type": "code",
   "execution_count": null,
   "metadata": {},
   "outputs": [],
   "source": [
    "# Podemos filtrar por más de una condición, como por ejemplo:\n",
    "\n",
    "cond1 = df['species'] == 'virginica'\n",
    "cond2 = df['sepal width (cm)'] <= 2.5\n",
    "\n",
    "df[cond1 & cond2] # Filtra por ambas condiciones a la vez"
   ]
  },
  {
   "cell_type": "code",
   "execution_count": null,
   "metadata": {},
   "outputs": [],
   "source": [
    "# Otro ejemplo de filtro por más de una condición:\n",
    "\n",
    "cond1 = df['species'] == 'virginica'\n",
    "cond2 = df['sepal width (cm)'] <= 2.5\n",
    "cond3 = df['petal width (cm)'] >= 2.2\n",
    "\n",
    "df[cond1 & (cond2 | cond3)].head() # Filtra todas las 'virginica' que cumplan alguna de las condiciones 2 o bien 3 o ambas"
   ]
  },
  {
   "cell_type": "markdown",
   "metadata": {},
   "source": [
    "## Creación, modificación y borrado de filas y columnas"
   ]
  },
  {
   "cell_type": "markdown",
   "metadata": {},
   "source": [
    "En este apartado veremos cómo podemos añadir nuevos datos al `DataFrame` que hemos cargado y modificar o borrar su contenido ."
   ]
  },
  {
   "cell_type": "code",
   "execution_count": null,
   "metadata": {},
   "outputs": [],
   "source": [
    "# Es posible crear nuevas columnas fácilmente a partir de las existentes, por ejemplo, mediante\n",
    "# operaciones aritméticas\n",
    "df['sepal minus petal length (cm)'] = df['sepal length (cm)'] - df['petal length (cm)']\n",
    "df.head()"
   ]
  },
  {
   "cell_type": "code",
   "execution_count": null,
   "metadata": {},
   "outputs": [],
   "source": [
    "# También podemos añadir nuevas filas del siguiente modo\n",
    "fila = {\n",
    "        'sepal length (cm)': 5, \n",
    "        'sepal width (cm)': 3,\n",
    "        'petal length (cm)': 2, \n",
    "        'petal width (cm)': 1,\n",
    "        'sepal minus petal length (cm)': 3,\n",
    "       } # No rellenamos todas las celdas para poder filtrar por celdas vacías más adelante\n",
    "\n",
    "df = df.append(fila, ignore_index=True) # Ignoramos el índice porque no estamos indicando ningún nombre para la fila\n",
    "df.tail()"
   ]
  },
  {
   "cell_type": "code",
   "execution_count": null,
   "metadata": {
    "scrolled": false
   },
   "outputs": [],
   "source": [
    "# Para borrar una columna podemos utilizar el método drop según se muestra a continuación\n",
    "df = df.drop('sepal length (cm)', axis=1) # axis indica simplemente que borre una columna, si vale 0 es una fila\n",
    "df.head()"
   ]
  },
  {
   "cell_type": "code",
   "execution_count": null,
   "metadata": {},
   "outputs": [],
   "source": [
    "# Para borrar varias columnas podemos hacerlo mediante una lista de nombres de columnas\n",
    "cols = ['sepal width (cm)', 'petal length (cm)']\n",
    "df = df.drop(cols, axis=1) \n",
    "df.head()"
   ]
  },
  {
   "cell_type": "code",
   "execution_count": null,
   "metadata": {
    "scrolled": true
   },
   "outputs": [],
   "source": [
    "# Del mismo modo, podemos borrar filas mediante el nombre de una fila o una lista de nombres de filas\n",
    "filas = [0, 1, 2, 3, 4]\n",
    "df = df.drop(filas, axis=0) # axis=0 para que borre filas\n",
    "df.head()"
   ]
  },
  {
   "cell_type": "code",
   "execution_count": null,
   "metadata": {},
   "outputs": [],
   "source": [
    "# Para modificar una celda, podemos utilizar iloc\n",
    "df.iloc[0, 0] = 9999.0 # Modifica la celda que se encuentra en la primera fila y primera columna\n",
    "df.head()"
   ]
  },
  {
   "cell_type": "code",
   "execution_count": null,
   "metadata": {},
   "outputs": [],
   "source": [
    "# Y también loc\n",
    "# Modifica la segunda celda de la columna 'sepal minus petal length (cm)'\n",
    "df.loc[6, 'sepal minus petal length (cm)'] = 9999.0 \n",
    "df.head()"
   ]
  },
  {
   "cell_type": "code",
   "execution_count": null,
   "metadata": {
    "scrolled": true
   },
   "outputs": [],
   "source": [
    "# Finalmente, para cambiar el contenido en más de una celda podemos utilizar la función replace\n",
    "# Esta función ofrece muchísimas opciones, aquí mostramos la más sencilla:\n",
    "df = df.replace(9999.0, 1111.0) # Busca todos los valores 9999.0 y cámbialos por 1111.0\n",
    "df.head()"
   ]
  },
  {
   "cell_type": "markdown",
   "metadata": {},
   "source": [
    "### Eliminación de datos nulos"
   ]
  },
  {
   "cell_type": "markdown",
   "metadata": {},
   "source": [
    "En el análisis de datos es muy habitual tener columnas o filas con datos nulos o vacíos, porque su valor desconoce o no es posible calcularlo.\n",
    "\n",
    "`pandas` permite tratar estas situaciones mediante estos métodos:\n",
    "\n",
    "* `isnull()`, `notnull()`: para detectar datos nulos.\n",
    "* `dropna`: para borrar los datos nulos."
   ]
  },
  {
   "cell_type": "code",
   "execution_count": null,
   "metadata": {},
   "outputs": [],
   "source": [
    "# En el DataFrame anterior hemos añadido un valor vacío en la columna species, ¿cómo podemos encontrar la fila?\n",
    "cond = df['species'].isnull()\n",
    "\n",
    "df[cond]"
   ]
  },
  {
   "cell_type": "code",
   "execution_count": null,
   "metadata": {},
   "outputs": [],
   "source": [
    "# En el caso de que filas que datos nulos no tengan sentido, podemos borrarlas fácilmente mediante dropna\n",
    "df = df.dropna()\n",
    "df.tail()"
   ]
  },
  {
   "cell_type": "code",
   "execution_count": null,
   "metadata": {},
   "outputs": [],
   "source": [
    "# Cargamos de nuevo el DataFrame original para seguir con el notebook\n",
    "df = pd.read_csv('../../data/04_01_iris.csv')"
   ]
  },
  {
   "cell_type": "markdown",
   "metadata": {},
   "source": [
    "## Agrupaciones \n",
    "\n",
    "Mediante `pandas` resulta muy sencillo crear agrupaciones de datos y realizar operaciones sobre ellos. Básicamente, las agrupaciones consisten en dos pasos:\n",
    "\n",
    "1. Dividir la tabla de datos en diversos grupos, con el método [`groupby`](https://pandas.pydata.org/pandas-docs/stable/generated/pandas.DataFrame.groupby.html).\n",
    "1. Aplicar una función a los grupos generados, que devolverá un nuevo objeto `Series` o `DataFrame` con el resultado de la función aplicada después de agregar los datos. Habitualmente, utilizaremos el método [`agg`](https://pandas.pydata.org/pandas-docs/stable/generated/pandas.core.groupby.DataFrameGroupBy.agg.html).\n"
   ]
  },
  {
   "cell_type": "code",
   "execution_count": null,
   "metadata": {},
   "outputs": [],
   "source": [
    "# Primer paso: agrupamos por tipo de especie\n",
    "grupos = df.groupby('species')"
   ]
  },
  {
   "cell_type": "code",
   "execution_count": null,
   "metadata": {
    "scrolled": false
   },
   "outputs": [],
   "source": [
    "# Segundo paso: aplicamos una función, por ejemplo, la media\n",
    "grupos.agg('mean') # equivale también a escribir .mean()"
   ]
  },
  {
   "cell_type": "code",
   "execution_count": null,
   "metadata": {
    "scrolled": true
   },
   "outputs": [],
   "source": [
    "# Cualquier función que realice un cálculo sobre los grupos nos servirá, por ejemplo, una función de NumPy\n",
    "df.groupby('species').agg(np.sum) # equivale a escribir .sum()"
   ]
  },
  {
   "cell_type": "code",
   "execution_count": null,
   "metadata": {},
   "outputs": [],
   "source": [
    "# Una función muy utilizada es contar el número de elementos por grupo:\n",
    "df.groupby('species').agg('count') # equivale a escribir .count()"
   ]
  },
  {
   "cell_type": "code",
   "execution_count": null,
   "metadata": {},
   "outputs": [],
   "source": [
    "# Y aplicar una lista de funciones\n",
    "df.groupby('species').agg(['min', 'max', 'median', 'mean', 'std'])"
   ]
  },
  {
   "cell_type": "markdown",
   "metadata": {},
   "source": [
    "**Practicando**"
   ]
  },
  {
   "cell_type": "markdown",
   "metadata": {},
   "source": [
    "**EJERCICIO 1**. Primero de todo, carga en la variable `df` el fichero con los datos de las flores Iris en formato CSV que se encuentra en el directorio '../../data/04_01_iris.csv'. Y después, muestra el contenido únicamente de las primeras 15 filas de las columnas `sepal length (cm)`, `sepal width (cm)` y `species` del dataframe `df`.\n",
    "\n",
    "**Importante**: Si en ejercicios posteriores tienes algún problema y quieres cargar de nuevo estos datos, ejecuta de nuevo la celda siguiente para cargar de nuevo los datos originales."
   ]
  },
  {
   "cell_type": "code",
   "execution_count": null,
   "metadata": {},
   "outputs": [],
   "source": []
  },
  {
   "cell_type": "code",
   "execution_count": null,
   "metadata": {
    "scrolled": true
   },
   "outputs": [],
   "source": [
    "%load ../../solutions/04_01_df_columnas.py"
   ]
  },
  {
   "cell_type": "markdown",
   "metadata": {},
   "source": [
    "**EJERCICIO 2**. Muestra el contenido de la celda de la quinta fila y la cuarta columna del dataframe `df` numéricamente. Recuerda que empezamos a contar desde cero:"
   ]
  },
  {
   "cell_type": "code",
   "execution_count": null,
   "metadata": {},
   "outputs": [],
   "source": []
  },
  {
   "cell_type": "code",
   "execution_count": null,
   "metadata": {
    "scrolled": false
   },
   "outputs": [],
   "source": [
    "%load ../../solutions/04_02_df_fila_columna.py"
   ]
  },
  {
   "cell_type": "markdown",
   "metadata": {},
   "source": [
    "**EJERCICIO 3**. De nuestro `DataFrame` de flores Iris que tenemos en la variable `df`, selecciona todas aquellas filas que sean setosa y el largo de su sépalo sea mayor que 5,5 cm o bien el largo de su pétalo sea inferior a 1,3 cm."
   ]
  },
  {
   "cell_type": "code",
   "execution_count": null,
   "metadata": {},
   "outputs": [],
   "source": []
  },
  {
   "cell_type": "code",
   "execution_count": null,
   "metadata": {},
   "outputs": [],
   "source": [
    "%load ../../solutions/04_03_df_boolean_1.py"
   ]
  },
  {
   "cell_type": "markdown",
   "metadata": {},
   "source": [
    "**EJERCICIO 4**. Ahora, filtra todas aquellas filas de tipo versicolor, en las que el largo del sépalo sea mayor o igual a 5 cm y el largo del pétalo esté entre 3 y 3,5 cm inclusive."
   ]
  },
  {
   "cell_type": "code",
   "execution_count": null,
   "metadata": {},
   "outputs": [],
   "source": []
  },
  {
   "cell_type": "code",
   "execution_count": null,
   "metadata": {
    "scrolled": true
   },
   "outputs": [],
   "source": [
    "%load ../../solutions/04_04_df_boolean_2.py"
   ]
  },
  {
   "cell_type": "markdown",
   "metadata": {},
   "source": [
    "**EJERCICIO 5**. Ahora muestra el ndarray correspondiente a las etiquetas de las filas de la variable `df`."
   ]
  },
  {
   "cell_type": "code",
   "execution_count": null,
   "metadata": {},
   "outputs": [],
   "source": []
  },
  {
   "cell_type": "code",
   "execution_count": null,
   "metadata": {},
   "outputs": [],
   "source": [
    "%load ../../solutions/04_05_df_rows.py"
   ]
  },
  {
   "cell_type": "markdown",
   "metadata": {},
   "source": [
    "**EJERCICIO 6**. Después, muestra la media y desviación estándar del ancho del sépalo de las flores Virginica.\n",
    "\n",
    "**Pista**: las funciones mean() y std() devuelven la media y desviación estándar. Puedes utilizar `print(a, b)` para imprimir los dos valores en la misma línea si quieres."
   ]
  },
  {
   "cell_type": "code",
   "execution_count": null,
   "metadata": {},
   "outputs": [],
   "source": []
  },
  {
   "cell_type": "code",
   "execution_count": null,
   "metadata": {},
   "outputs": [],
   "source": [
    "%load ../../solutions/04_06_df_mean_std.py"
   ]
  },
  {
   "cell_type": "markdown",
   "metadata": {},
   "source": [
    "**EJERCICIO 7**. Duplica una vez todas las filas que sean del tipo Virginica, añádelas a `df` y finalmente muestra el número de filas y columnas resultantes."
   ]
  },
  {
   "cell_type": "code",
   "execution_count": null,
   "metadata": {},
   "outputs": [],
   "source": []
  },
  {
   "cell_type": "code",
   "execution_count": null,
   "metadata": {
    "scrolled": true
   },
   "outputs": [],
   "source": [
    "%load ../../solutions/04_07_df_duplica.py"
   ]
  },
  {
   "cell_type": "markdown",
   "metadata": {},
   "source": [
    "**EJERCICIO 8**. Utilizando el mismo dataset que tenemos cargado en la variable `df`, calcula el sumatorio de todos los valores al cuadrado de todas las columnas (ancho y largo de los sépalos y ancho y largo de los pétalos) para cada especie.\n",
    "\n",
    "**Pista**: deberás declarar una nueva función."
   ]
  },
  {
   "cell_type": "code",
   "execution_count": null,
   "metadata": {},
   "outputs": [],
   "source": []
  },
  {
   "cell_type": "code",
   "execution_count": null,
   "metadata": {},
   "outputs": [],
   "source": [
    "%load ../../solutions/04_08_df_agg.py"
   ]
  },
  {
   "cell_type": "markdown",
   "metadata": {},
   "source": [
    "**EJERCICIO 9**. Crea un nuevo `DataFrame` que llamaremos `df_girado`, que tomará los valores de `df` pero en esta nueva variable las filas de `df` pasarán a ser las columnas de esta variable y las columnas de `df` pasarán a ser las filas. Es decir, giraremos completamente el conjunto de datos que hemos cargado en `df` inviertiendo filas y columnas.\n",
    "\n",
    "Intenta hacerlo únicamente con funciones indicadas en este notebook :-)"
   ]
  },
  {
   "cell_type": "code",
   "execution_count": null,
   "metadata": {},
   "outputs": [],
   "source": [
    "df_girado = pd.DataFrame() # Creamos un DataFrame vacío\n",
    "\n"
   ]
  },
  {
   "cell_type": "code",
   "execution_count": null,
   "metadata": {},
   "outputs": [],
   "source": [
    "%load ../../solutions/04_09_df_girado.py"
   ]
  }
 ],
 "metadata": {
  "anaconda-cloud": {},
  "kernelspec": {
   "display_name": "Python 3",
   "language": "python",
   "name": "python3"
  },
  "language_info": {
   "codemirror_mode": {
    "name": "ipython",
    "version": 3
   },
   "file_extension": ".py",
   "mimetype": "text/x-python",
   "name": "python",
   "nbconvert_exporter": "python",
   "pygments_lexer": "ipython3",
   "version": "3.6.6"
  }
 },
 "nbformat": 4,
 "nbformat_minor": 2
}
