{
 "cells": [
  {
   "cell_type": "markdown",
   "metadata": {
    "slideshow": {
     "slide_type": "slide"
    }
   },
   "source": [
    "# Introducción a Data Science en Python\n",
    "\n",
    "**https://github.com/PyDataMallorca** (PyConES2018_Introduccion_a_data_science_en_Python)\n",
    "\n",
    "**¿Dudas?, ¿problemas?** Una persona diferente estará dando la formación de cada uno de los apartados y los demás os ayudaremos de forma personalizada.\n"
   ]
  },
  {
   "cell_type": "markdown",
   "metadata": {
    "slideshow": {
     "slide_type": "slide"
    }
   },
   "source": [
    "# ¿Qué es la Ciencia de Datos o Data Science?\n",
    "\n",
    "* Área interdisciplinar relacionada con métodos, procesos y sistemas científicos con los objetivos de comprender y extraer conocimiento de datos.\n",
    "\n",
    "* Principales áreas: \n",
    " * Matemáticas, Estadística.\n",
    " * Programación."
   ]
  },
  {
   "cell_type": "markdown",
   "metadata": {
    "slideshow": {
     "slide_type": "slide"
    }
   },
   "source": [
    "# Conceptos relacionados\n",
    "\n",
    "* Machine Learning: se utiliza como sinónimo de Data Science. Conjunto de algoritmos y técnicas que permiten a un programa comprender y extraer conocimiento a partir de datos.\n",
    "* Deep Learning: cuando utilizamos redes neuronales muy amplias.\n",
    "* Big Data: únicamente cuando tengamos conjuntos de datos muy grandes. Del orden de miles de millones de registros. \n"
   ]
  },
  {
   "cell_type": "markdown",
   "metadata": {
    "slideshow": {
     "slide_type": "slide"
    }
   },
   "source": [
    "# ¿Y Python qué lugar ocupa en Data Science?\n",
    "\n",
    "* Conjuntamente con `R` es el lenguaje más utilizado en Data Science actualmente:\n",
    "![Python vs R](images/01_01_python_vs_R.png)\n",
    "* Mediante Python tenemos cubiertas todas las necesidades: desde la exploración de datos en local hasta la puesta en producción de proyectos de Data Science.\n",
    "* Muchísimas herramientas maduras y de código abierto, con una gran comunidad de personas que utilizan y mejoran estas herramientas a diario.\n",
    "\n",
    "Fuente: https://www.kdnuggets.com/2017/08/python-overtakes-r-leader-analytics-data-science.html"
   ]
  },
  {
   "cell_type": "markdown",
   "metadata": {
    "slideshow": {
     "slide_type": "slide"
    }
   },
   "source": [
    "# ¡Empezamos!\n",
    "\n",
    "\n",
    "![PyData Mallorca logo](images/01_02_PyM_logo.png)\n"
   ]
  }
 ],
 "metadata": {
  "celltoolbar": "Slideshow",
  "kernelspec": {
   "display_name": "Python 3",
   "language": "python",
   "name": "python3"
  },
  "language_info": {
   "codemirror_mode": {
    "name": "ipython",
    "version": 3
   },
   "file_extension": ".py",
   "mimetype": "text/x-python",
   "name": "python",
   "nbconvert_exporter": "python",
   "pygments_lexer": "ipython3",
   "version": "3.6.6"
  }
 },
 "nbformat": 4,
 "nbformat_minor": 2
}
